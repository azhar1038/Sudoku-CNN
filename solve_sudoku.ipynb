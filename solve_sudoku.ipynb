{
 "cells": [
  {
   "cell_type": "code",
   "execution_count": 1,
   "metadata": {},
   "outputs": [],
   "source": [
    "import numpy as np\n",
    "from tensorflow.keras.models import load_model"
   ]
  },
  {
   "cell_type": "code",
   "execution_count": 2,
   "metadata": {},
   "outputs": [],
   "source": [
    "model = load_model(\"final.h5\")"
   ]
  },
  {
   "cell_type": "code",
   "execution_count": 7,
   "metadata": {},
   "outputs": [],
   "source": [
    "def str_to_sudoku(s):\n",
    "    return np.array([int(c)/4.5-1 for c in s]).reshape(9,9)"
   ]
  },
  {
   "cell_type": "code",
   "execution_count": 27,
   "metadata": {},
   "outputs": [],
   "source": [
    "from tqdm import tqdm\n",
    "def sudoku_predict(puzzle):\n",
    "    sudoku = str_to_sudoku(puzzle)\n",
    "    remains = (sudoku==-1).sum()\n",
    "    for _ in tqdm(range(remains)):\n",
    "        predict = -1\n",
    "        probability = -1\n",
    "        index = -1\n",
    "        output = model.predict(sudoku.reshape(1,9,9,1))\n",
    "        output = output.squeeze()\n",
    "        for i in range(81):\n",
    "            if sudoku[i//9, i%9] == -1:\n",
    "                proba = np.max(output[i])\n",
    "                if(proba > probability):\n",
    "                    probability = proba\n",
    "                    predict = np.argmax(output[i])\n",
    "                    index = i\n",
    "        sudoku[index//9, index%9] = (predict+1)/4.5-1\n",
    "    return ((sudoku+1)*4.5).astype('int32')"
   ]
  },
  {
   "cell_type": "code",
   "execution_count": 28,
   "metadata": {},
   "outputs": [
    {
     "name": "stderr",
     "output_type": "stream",
     "text": [
      "100%|██████████████████████████████████████████████████████████████████████████████████| 34/34 [00:01<00:00, 29.65it/s]"
     ]
    },
    {
     "name": "stdout",
     "output_type": "stream",
     "text": [
      "[[2 5 9 3 1 4 7 6 8]\n",
      " [8 7 1 6 2 9 4 5 3]\n",
      " [6 4 3 5 8 7 1 9 2]\n",
      " [9 6 7 8 3 5 2 1 4]\n",
      " [4 1 8 9 7 2 5 3 6]\n",
      " [3 2 5 4 6 1 9 8 7]\n",
      " [7 9 6 2 5 3 8 4 1]\n",
      " [1 8 4 7 9 6 3 2 5]\n",
      " [5 3 2 1 4 8 6 7 9]]\n",
      "\n",
      "Row Sum   : [45 45 45 45 45 45 45 45 45]\n",
      "\n",
      "Column Sum: [45 45 45 45 45 45 45 45 45]\n"
     ]
    },
    {
     "name": "stderr",
     "output_type": "stream",
     "text": [
      "\n"
     ]
    }
   ],
   "source": [
    "sudoku = \"050314060870009403643507192007805210410900000025061907790250840004096005030108670\"\n",
    "assert len(sudoku) == 81\n",
    "pred = sudoku_predict(sudoku)\n",
    "print(pred)\n",
    "print(\"\\nRow Sum   :\", pred.sum(axis=0))\n",
    "print(\"\\nColumn Sum:\", pred.sum(axis=1))"
   ]
  },
  {
   "cell_type": "code",
   "execution_count": 29,
   "metadata": {},
   "outputs": [
    {
     "name": "stderr",
     "output_type": "stream",
     "text": [
      "100%|██████████████████████████████████████████████████████████████████████████████████| 43/43 [00:01<00:00, 39.70it/s]"
     ]
    },
    {
     "name": "stdout",
     "output_type": "stream",
     "text": [
      "[[1 6 7 5 9 4 3 8 2]\n",
      " [8 9 5 2 6 3 7 1 4]\n",
      " [3 2 4 8 1 7 5 9 6]\n",
      " [2 8 6 4 3 9 1 7 5]\n",
      " [4 7 1 6 8 5 9 2 3]\n",
      " [5 3 9 7 2 1 4 6 8]\n",
      " [9 5 8 1 4 6 2 3 7]\n",
      " [7 1 2 3 5 8 6 4 9]\n",
      " [6 4 3 9 7 2 8 5 1]]\n",
      "\n",
      "Row Sum   : [45 45 45 45 45 45 45 45 45]\n",
      "\n",
      "Column Sum: [45 45 45 45 45 45 45 45 45]\n"
     ]
    },
    {
     "name": "stderr",
     "output_type": "stream",
     "text": [
      "\n"
     ]
    }
   ],
   "source": [
    "sudoku2 = \"160094382005000010320807096286030070000080920000021408958100000700000000043970850\"\n",
    "assert len(sudoku2) == 81\n",
    "pred = sudoku_predict(sudoku2)\n",
    "print(pred)\n",
    "print(\"\\nRow Sum   :\", pred.sum(axis=0))\n",
    "print(\"\\nColumn Sum:\", pred.sum(axis=1))"
   ]
  },
  {
   "cell_type": "code",
   "execution_count": null,
   "metadata": {},
   "outputs": [],
   "source": []
  }
 ],
 "metadata": {
  "kernelspec": {
   "display_name": "env_ml",
   "language": "python",
   "name": "env_ml"
  },
  "language_info": {
   "codemirror_mode": {
    "name": "ipython",
    "version": 3
   },
   "file_extension": ".py",
   "mimetype": "text/x-python",
   "name": "python",
   "nbconvert_exporter": "python",
   "pygments_lexer": "ipython3",
   "version": "3.8.3"
  }
 },
 "nbformat": 4,
 "nbformat_minor": 4
}
