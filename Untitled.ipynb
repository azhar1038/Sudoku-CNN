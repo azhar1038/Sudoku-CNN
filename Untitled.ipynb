{
 "cells": [
  {
   "cell_type": "code",
   "execution_count": 1,
   "metadata": {},
   "outputs": [],
   "source": [
    "import pandas as pd\n",
    "import numpy as np\n",
    "from tqdm import tqdm"
   ]
  },
  {
   "cell_type": "code",
   "execution_count": 2,
   "metadata": {},
   "outputs": [],
   "source": [
    "data = pd.read_csv(\"sudoku.csv\")"
   ]
  },
  {
   "cell_type": "code",
   "execution_count": 3,
   "metadata": {},
   "outputs": [
    {
     "data": {
      "text/html": [
       "<div>\n",
       "<style scoped>\n",
       "    .dataframe tbody tr th:only-of-type {\n",
       "        vertical-align: middle;\n",
       "    }\n",
       "\n",
       "    .dataframe tbody tr th {\n",
       "        vertical-align: top;\n",
       "    }\n",
       "\n",
       "    .dataframe thead th {\n",
       "        text-align: right;\n",
       "    }\n",
       "</style>\n",
       "<table border=\"1\" class=\"dataframe\">\n",
       "  <thead>\n",
       "    <tr style=\"text-align: right;\">\n",
       "      <th></th>\n",
       "      <th>quizzes</th>\n",
       "      <th>solutions</th>\n",
       "    </tr>\n",
       "  </thead>\n",
       "  <tbody>\n",
       "    <tr>\n",
       "      <th>0</th>\n",
       "      <td>0043002090050090010700600430060020871900074000...</td>\n",
       "      <td>8643712593258497619712658434361925871986574322...</td>\n",
       "    </tr>\n",
       "    <tr>\n",
       "      <th>1</th>\n",
       "      <td>0401000501070039605200080000000000170009068008...</td>\n",
       "      <td>3461792581875239645296483719658324174729168358...</td>\n",
       "    </tr>\n",
       "    <tr>\n",
       "      <th>2</th>\n",
       "      <td>6001203840084590720000060050002640300700800069...</td>\n",
       "      <td>6951273841384596727248369158512647392739815469...</td>\n",
       "    </tr>\n",
       "    <tr>\n",
       "      <th>3</th>\n",
       "      <td>4972000001004000050000160986203000403009000000...</td>\n",
       "      <td>4972583161864397252537164986293815473759641828...</td>\n",
       "    </tr>\n",
       "    <tr>\n",
       "      <th>4</th>\n",
       "      <td>0059103080094030600275001000300002010008200070...</td>\n",
       "      <td>4659123781894735623275681497386452919548216372...</td>\n",
       "    </tr>\n",
       "  </tbody>\n",
       "</table>\n",
       "</div>"
      ],
      "text/plain": [
       "                                             quizzes  \\\n",
       "0  0043002090050090010700600430060020871900074000...   \n",
       "1  0401000501070039605200080000000000170009068008...   \n",
       "2  6001203840084590720000060050002640300700800069...   \n",
       "3  4972000001004000050000160986203000403009000000...   \n",
       "4  0059103080094030600275001000300002010008200070...   \n",
       "\n",
       "                                           solutions  \n",
       "0  8643712593258497619712658434361925871986574322...  \n",
       "1  3461792581875239645296483719658324174729168358...  \n",
       "2  6951273841384596727248369158512647392739815469...  \n",
       "3  4972583161864397252537164986293815473759641828...  \n",
       "4  4659123781894735623275681497386452919548216372...  "
      ]
     },
     "execution_count": 3,
     "metadata": {},
     "output_type": "execute_result"
    }
   ],
   "source": [
    "data.head()"
   ]
  },
  {
   "cell_type": "code",
   "execution_count": 4,
   "metadata": {},
   "outputs": [],
   "source": [
    "X_raw = data['quizzes']\n",
    "y_raw = data['solutions']"
   ]
  },
  {
   "cell_type": "code",
   "execution_count": 5,
   "metadata": {},
   "outputs": [
    {
     "name": "stdout",
     "output_type": "stream",
     "text": [
      "X shape: (1000000,)\n",
      "Y shape: (1000000,)\n"
     ]
    }
   ],
   "source": [
    "print(\"X shape:\",X_raw.shape)\n",
    "print(\"Y shape:\", y_raw.shape)"
   ]
  },
  {
   "cell_type": "code",
   "execution_count": 6,
   "metadata": {},
   "outputs": [],
   "source": [
    "def str_to_array(str, shape):\n",
    "    return np.array([int(i) for i in str]).reshape(shape)"
   ]
  },
  {
   "cell_type": "code",
   "execution_count": 12,
   "metadata": {},
   "outputs": [],
   "source": [
    "X = []\n",
    "y = []"
   ]
  },
  {
   "cell_type": "code",
   "execution_count": 13,
   "metadata": {},
   "outputs": [
    {
     "name": "stderr",
     "output_type": "stream",
     "text": [
      "100%|█████████████████████████████████████████████████████████████████████| 1000000/1000000 [01:04<00:00, 15409.33it/s]\n"
     ]
    }
   ],
   "source": [
    "for i in tqdm(range(len(X_raw))):\n",
    "    X.append(str_to_array(X_raw[i], shape=(9,9,1)))\n",
    "    y.append(str_to_array(y_raw[i], shape=(81,1)))\n",
    "X = np.array(X)/4.5 - 1\n",
    "y = np.array(y)-1"
   ]
  },
  {
   "cell_type": "code",
   "execution_count": 14,
   "metadata": {},
   "outputs": [],
   "source": [
    "if 'data' in locals():\n",
    "    del data\n",
    "if 'X_raw' in locals():\n",
    "    del X_raw\n",
    "if 'y_raw' in locals():\n",
    "    del y_raw"
   ]
  },
  {
   "cell_type": "code",
   "execution_count": 15,
   "metadata": {},
   "outputs": [
    {
     "data": {
      "text/plain": [
       "(1000000, 9, 9, 1)"
      ]
     },
     "execution_count": 15,
     "metadata": {},
     "output_type": "execute_result"
    }
   ],
   "source": [
    "X.shape"
   ]
  },
  {
   "cell_type": "code",
   "execution_count": 16,
   "metadata": {},
   "outputs": [
    {
     "data": {
      "text/plain": [
       "(1000000, 81, 1)"
      ]
     },
     "execution_count": 16,
     "metadata": {},
     "output_type": "execute_result"
    }
   ],
   "source": [
    "y.shape"
   ]
  },
  {
   "cell_type": "code",
   "execution_count": 17,
   "metadata": {},
   "outputs": [],
   "source": [
    "from sklearn.model_selection import train_test_split"
   ]
  },
  {
   "cell_type": "code",
   "execution_count": 18,
   "metadata": {},
   "outputs": [],
   "source": [
    "X_train, X_test, y_train, y_test = train_test_split(X, y, test_size=0.2, random_state=101)"
   ]
  },
  {
   "cell_type": "code",
   "execution_count": 19,
   "metadata": {},
   "outputs": [],
   "source": [
    "if 'X' in locals():\n",
    "    del X\n",
    "if 'y' in locals():\n",
    "    del y"
   ]
  },
  {
   "cell_type": "code",
   "execution_count": 20,
   "metadata": {},
   "outputs": [],
   "source": [
    "from tensorflow.keras.models import Sequential\n",
    "from tensorflow.keras.layers import Dense, Conv2D, Reshape, BatchNormalization, Flatten, Softmax\n",
    "from tensorflow.keras.optimizers import Adam"
   ]
  },
  {
   "cell_type": "code",
   "execution_count": 21,
   "metadata": {},
   "outputs": [
    {
     "name": "stdout",
     "output_type": "stream",
     "text": [
      "Model: \"sequential\"\n",
      "_________________________________________________________________\n",
      "Layer (type)                 Output Shape              Param #   \n",
      "=================================================================\n",
      "conv2d (Conv2D)              (None, 9, 9, 64)          640       \n",
      "_________________________________________________________________\n",
      "batch_normalization (BatchNo (None, 9, 9, 64)          256       \n",
      "_________________________________________________________________\n",
      "conv2d_1 (Conv2D)            (None, 9, 9, 64)          36928     \n",
      "_________________________________________________________________\n",
      "batch_normalization_1 (Batch (None, 9, 9, 64)          256       \n",
      "_________________________________________________________________\n",
      "conv2d_2 (Conv2D)            (None, 9, 9, 128)         8320      \n",
      "_________________________________________________________________\n",
      "flatten (Flatten)            (None, 10368)             0         \n",
      "_________________________________________________________________\n",
      "dense (Dense)                (None, 729)               7559001   \n",
      "_________________________________________________________________\n",
      "reshape (Reshape)            (None, 81, 9)             0         \n",
      "_________________________________________________________________\n",
      "softmax (Softmax)            (None, 81, 9)             0         \n",
      "=================================================================\n",
      "Total params: 7,605,401\n",
      "Trainable params: 7,605,145\n",
      "Non-trainable params: 256\n",
      "_________________________________________________________________\n"
     ]
    }
   ],
   "source": [
    "model = Sequential()\n",
    "model.add(Conv2D(64, kernel_size=(3,3), activation=\"relu\", padding=\"same\", input_shape=(9,9,1)))\n",
    "model.add(BatchNormalization())\n",
    "model.add(Conv2D(64, kernel_size=(3,3), activation=\"relu\", padding=\"same\"))\n",
    "model.add(BatchNormalization())\n",
    "model.add(Conv2D(128, kernel_size=(1,1), activation=\"relu\", padding=\"same\"))\n",
    "model.add(Flatten())\n",
    "model.add(Dense(81*9))\n",
    "model.add(Reshape((81,9)))\n",
    "model.add(Softmax())\n",
    "model.compile(loss=\"sparse_categorical_crossentropy\", optimizer=Adam())\n",
    "model.summary()"
   ]
  },
  {
   "cell_type": "code",
   "execution_count": 22,
   "metadata": {},
   "outputs": [
    {
     "name": "stdout",
     "output_type": "stream",
     "text": [
      "Epoch 1/2\n",
      "12500/12500 [==============================] - 112s 9ms/step - loss: 0.4686\n",
      "Epoch 2/2\n",
      "12500/12500 [==============================] - 112s 9ms/step - loss: 0.3609\n"
     ]
    },
    {
     "data": {
      "text/plain": [
       "<tensorflow.python.keras.callbacks.History at 0x2078f91c2b0>"
      ]
     },
     "execution_count": 22,
     "metadata": {},
     "output_type": "execute_result"
    }
   ],
   "source": [
    "model.fit(X_train, y_train, batch_size=64, epochs=2)"
   ]
  },
  {
   "cell_type": "code",
   "execution_count": 23,
   "metadata": {},
   "outputs": [],
   "source": [
    "model.save('final.h5')"
   ]
  },
  {
   "cell_type": "code",
   "execution_count": 57,
   "metadata": {},
   "outputs": [],
   "source": [
    "if 'X_train' in locals():\n",
    "    del X_train\n",
    "if 'y_train' in locals():\n",
    "    del y_train"
   ]
  },
  {
   "cell_type": "code",
   "execution_count": 49,
   "metadata": {},
   "outputs": [],
   "source": [
    "predict = model.predict(X_test[2].reshape(1,9,9,1))"
   ]
  },
  {
   "cell_type": "code",
   "execution_count": 50,
   "metadata": {},
   "outputs": [
    {
     "data": {
      "text/plain": [
       "(1, 81, 9)"
      ]
     },
     "execution_count": 50,
     "metadata": {},
     "output_type": "execute_result"
    }
   ],
   "source": [
    "predict.shape"
   ]
  },
  {
   "cell_type": "code",
   "execution_count": 51,
   "metadata": {},
   "outputs": [],
   "source": [
    "predict = predict.squeeze()"
   ]
  },
  {
   "cell_type": "code",
   "execution_count": 52,
   "metadata": {},
   "outputs": [
    {
     "data": {
      "text/plain": [
       "(81, 9)"
      ]
     },
     "execution_count": 52,
     "metadata": {},
     "output_type": "execute_result"
    }
   ],
   "source": [
    "predict.shape"
   ]
  },
  {
   "cell_type": "code",
   "execution_count": 53,
   "metadata": {},
   "outputs": [
    {
     "data": {
      "text/plain": [
       "(9, 9)"
      ]
     },
     "execution_count": 53,
     "metadata": {},
     "output_type": "execute_result"
    }
   ],
   "source": [
    "X_test[2,:,:,0].shape"
   ]
  },
  {
   "cell_type": "code",
   "execution_count": 93,
   "metadata": {},
   "outputs": [
    {
     "name": "stdout",
     "output_type": "stream",
     "text": [
      "[[1. 6. 0. 4. 0. 0. 3. 0. 0.]\n",
      " [0. 2. 9. 3. 7. 0. 0. 0. 5.]\n",
      " [3. 0. 0. 0. 5. 6. 0. 0. 8.]\n",
      " [0. 8. 0. 1. 0. 0. 0. 2. 0.]\n",
      " [0. 0. 0. 8. 0. 0. 6. 3. 9.]\n",
      " [7. 0. 6. 0. 0. 0. 0. 4. 0.]\n",
      " [0. 3. 0. 0. 0. 0. 0. 8. 0.]\n",
      " [0. 1. 0. 9. 0. 4. 7. 0. 0.]\n",
      " [5. 0. 8. 7. 2. 0. 0. 9. 0.]]\n",
      "[[1 6 7 4 9 8 3 7 2]\n",
      " [8 2 9 3 7 1 4 6 5]\n",
      " [3 4 4 2 5 6 2 7 8]\n",
      " [9 8 3 1 4 7 5 2 7]\n",
      " [2 4 1 8 4 7 6 3 9]\n",
      " [7 9 6 2 9 2 8 4 1]\n",
      " [9 3 7 5 1 5 2 8 4]\n",
      " [2 1 2 9 8 4 7 5 3]\n",
      " [5 4 8 7 2 1 4 9 3]]\n",
      "[[1 6 5 4 9 8 3 7 2]\n",
      " [8 2 9 3 7 1 4 6 5]\n",
      " [3 7 4 2 5 6 9 1 8]\n",
      " [4 8 3 1 6 9 5 2 7]\n",
      " [2 5 1 8 4 7 6 3 9]\n",
      " [7 9 6 5 3 2 8 4 1]\n",
      " [9 3 7 6 1 5 2 8 4]\n",
      " [6 1 2 9 8 4 7 5 3]\n",
      " [5 4 8 7 2 3 1 9 6]]\n"
     ]
    }
   ],
   "source": [
    "print((X_test[2,:,:,0]+1)*4.5)\n",
    "print(np.argmax(predict, axis=1).reshape(9,9)+1)\n",
    "print(y_test[2,:,0].reshape(9,9)+1)"
   ]
  },
  {
   "cell_type": "code",
   "execution_count": 59,
   "metadata": {},
   "outputs": [
    {
     "name": "stdout",
     "output_type": "stream",
     "text": [
      "[[False False  True False  True  True False  True  True]\n",
      " [ True False False False False  True  True  True False]\n",
      " [False  True  True  True False False  True  True False]\n",
      " [ True False  True False  True  True  True False  True]\n",
      " [ True  True  True False  True  True False False False]\n",
      " [False  True False  True  True  True  True False  True]\n",
      " [ True False  True  True  True  True  True False  True]\n",
      " [ True False  True False  True False False  True  True]\n",
      " [False  True False False False  True  True False  True]]\n"
     ]
    }
   ],
   "source": [
    "sudoku_predict((X_test[2,:,:,0]+1)*4.5)"
   ]
  },
  {
   "cell_type": "code",
   "execution_count": 103,
   "metadata": {},
   "outputs": [],
   "source": [
    "def sudoku_predict(sudoku):\n",
    "    while True:\n",
    "        predict = -1\n",
    "        probability = -1\n",
    "        index = -1\n",
    "        output = model.predict(sudoku.reshape(1,9,9,1))\n",
    "        output = output.squeeze()\n",
    "        for i in range(81):\n",
    "            if sudoku[i//9, i%9] == -1:\n",
    "                proba = np.max(output[i])\n",
    "                if(proba > probability):\n",
    "                    probability = proba\n",
    "                    predict = np.argmax(output[i])\n",
    "                    index = i\n",
    "        sudoku[index//9, index%9] = predict+1\n",
    "        remains = (sudoku==0).sum()\n",
    "        print(remains)\n",
    "        if remains==0:\n",
    "            return sudoku"
   ]
  },
  {
   "cell_type": "code",
   "execution_count": 104,
   "metadata": {},
   "outputs": [
    {
     "name": "stdout",
     "output_type": "stream",
     "text": [
      "0\n",
      "[[ 1.   6.   0.   4.   0.   0.   3.   0.   0. ]\n",
      " [ 0.   2.   9.   3.   7.   0.   0.   0.   5. ]\n",
      " [ 3.   0.   0.   0.   5.   6.   0.   0.   8. ]\n",
      " [ 0.   8.   0.   1.   0.   0.   0.   2.   0. ]\n",
      " [ 0.   0.   0.   8.   0.   0.   6.   3.   9. ]\n",
      " [ 7.   0.   6.   0.   0.   0.   0.   4.   0. ]\n",
      " [45.   3.   0.   0.   0.   0.   0.   8.   0. ]\n",
      " [ 0.   1.   0.   9.   0.   4.   7.   0.   0. ]\n",
      " [ 5.   0.   8.   7.   2.   0.   0.   9.  22.5]]\n"
     ]
    }
   ],
   "source": [
    "print((sudoku_predict(X_test[2,:,:,0])+1)*4.5)"
   ]
  },
  {
   "cell_type": "code",
   "execution_count": 105,
   "metadata": {},
   "outputs": [
    {
     "data": {
      "text/plain": [
       "array([[1, 6, 5, 4, 9, 8, 3, 7, 2],\n",
       "       [8, 2, 9, 3, 7, 1, 4, 6, 5],\n",
       "       [3, 7, 4, 2, 5, 6, 9, 1, 8],\n",
       "       [4, 8, 3, 1, 6, 9, 5, 2, 7],\n",
       "       [2, 5, 1, 8, 4, 7, 6, 3, 9],\n",
       "       [7, 9, 6, 5, 3, 2, 8, 4, 1],\n",
       "       [9, 3, 7, 6, 1, 5, 2, 8, 4],\n",
       "       [6, 1, 2, 9, 8, 4, 7, 5, 3],\n",
       "       [5, 4, 8, 7, 2, 3, 1, 9, 6]])"
      ]
     },
     "execution_count": 105,
     "metadata": {},
     "output_type": "execute_result"
    }
   ],
   "source": [
    "(y_test[2,:,0]+1).reshape(9,9)"
   ]
  },
  {
   "cell_type": "code",
   "execution_count": 106,
   "metadata": {},
   "outputs": [],
   "source": [
    "import copy\n",
    "def inference_sudoku(sample):\n",
    "    feat = copy.copy(sample)\n",
    "    while True:\n",
    "        out = model.predict(feat.reshape(1,9,9,1))\n",
    "        out = out.squeeze()\n",
    "        pred = np.argmax(out, axis=1).reshape(9,9)+1\n",
    "        prob = np.around(np.max(out, axis=1).reshape(9,9), 2)\n",
    "        feat = (feat+1)*4.5\n",
    "        feat = feat.reshape(9,9)\n",
    "        mask = feat==0\n",
    "        if mask.sum() == 0:\n",
    "            break\n",
    "        prob_new = prob*mask\n",
    "        ind = np.argmax(prob_new)\n",
    "        x, y = (ind//9), (ind%9)\n",
    "        val = pred[x,y]\n",
    "        feat[x,y] = val\n",
    "        feat = feat/4.5 - 1\n",
    "    return pred"
   ]
  },
  {
   "cell_type": "code",
   "execution_count": 109,
   "metadata": {},
   "outputs": [
    {
     "name": "stdout",
     "output_type": "stream",
     "text": [
      "[[1 6 9 4 1 9 3 9 2]\n",
      " [7 2 9 3 7 8 4 9 5]\n",
      " [7 9 9 2 5 6 1 7 8]\n",
      " [6 8 4 1 3 5 9 2 7]\n",
      " [2 1 3 2 4 7 6 3 6]\n",
      " [2 7 9 6 8 2 5 4 1]\n",
      " [9 2 2 5 6 5 7 1 7]\n",
      " [8 2 7 9 9 9 2 5 6]\n",
      " [5 5 6 7 2 1 3 8 9]]\n"
     ]
    }
   ],
   "source": [
    "print(inference_sudoku(X_test[2]))"
   ]
  },
  {
   "cell_type": "code",
   "execution_count": null,
   "metadata": {},
   "outputs": [],
   "source": []
  }
 ],
 "metadata": {
  "kernelspec": {
   "display_name": "env_ml",
   "language": "python",
   "name": "env_ml"
  },
  "language_info": {
   "codemirror_mode": {
    "name": "ipython",
    "version": 3
   },
   "file_extension": ".py",
   "mimetype": "text/x-python",
   "name": "python",
   "nbconvert_exporter": "python",
   "pygments_lexer": "ipython3",
   "version": "3.8.3"
  }
 },
 "nbformat": 4,
 "nbformat_minor": 4
}
